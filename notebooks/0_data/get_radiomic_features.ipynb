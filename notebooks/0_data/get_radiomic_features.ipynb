{
 "cells": [
  {
   "cell_type": "code",
   "execution_count": 2,
   "id": "76e660b6-d6c5-4903-a9d6-95d6e978edfe",
   "metadata": {},
   "outputs": [],
   "source": [
    "import os\n",
    "import pandas as pd\n",
    "import numpy as np\n",
    "from radiomics import featureextractor"
   ]
  },
  {
   "cell_type": "code",
   "execution_count": 3,
   "id": "74fc6bea-0276-4177-aedf-f68900ad8173",
   "metadata": {},
   "outputs": [],
   "source": [
    "data_path = \"../../data/\""
   ]
  },
  {
   "cell_type": "code",
   "execution_count": 8,
   "id": "cad0d6e6-fcbb-43a1-a056-7f6e9c5e8cda",
   "metadata": {},
   "outputs": [
    {
     "name": "stdout",
     "output_type": "stream",
     "text": [
      "Processing: ../../data/TCGA_Segmented_Lesions_UofC/TCGA-AO-A03M-1.les\n",
      "['LumA']\n"
     ]
    },
    {
     "ename": "RuntimeError",
     "evalue": "Exception thrown in SimpleITK ImageFileReader_Execute: /home/conda/feedstock_root/build_artifacts/libsimpleitk_1627514680097/work/Code/IO/src/sitkImageReaderBase.cxx:105:\nsitk::ERROR: Unable to determine ImageIO reader for \"../../data/TCGA_Segmented_Lesions_UofC/TCGA-AO-A03M-1.les\"",
     "output_type": "error",
     "traceback": [
      "\u001b[0;31m---------------------------------------------------------------------------\u001b[0m",
      "\u001b[0;31mRuntimeError\u001b[0m                              Traceback (most recent call last)",
      "\u001b[0;32m/tmp/ipykernel_1058/3485478813.py\u001b[0m in \u001b[0;36m?\u001b[0;34m()\u001b[0m\n\u001b[1;32m     25\u001b[0m \u001b[0;34m\u001b[0m\u001b[0m\n\u001b[1;32m     26\u001b[0m \u001b[0mbase_path\u001b[0m \u001b[0;34m=\u001b[0m \u001b[0mdata_path\u001b[0m \u001b[0;34m+\u001b[0m \u001b[0;34mr'TCGA_Segmented_Lesions_UofC/'\u001b[0m\u001b[0;34m\u001b[0m\u001b[0;34m\u001b[0m\u001b[0m\n\u001b[1;32m     27\u001b[0m \u001b[0mles_files\u001b[0m \u001b[0;34m=\u001b[0m \u001b[0msorted\u001b[0m\u001b[0;34m(\u001b[0m\u001b[0mos\u001b[0m\u001b[0;34m.\u001b[0m\u001b[0mlistdir\u001b[0m\u001b[0;34m(\u001b[0m\u001b[0mbase_path\u001b[0m\u001b[0;34m)\u001b[0m\u001b[0;34m)\u001b[0m\u001b[0;34m\u001b[0m\u001b[0;34m\u001b[0m\u001b[0m\n\u001b[1;32m     28\u001b[0m \u001b[0;34m\u001b[0m\u001b[0m\n\u001b[0;32m---> 29\u001b[0;31m \u001b[0mles_files\u001b[0m \u001b[0;34m=\u001b[0m \u001b[0;34m[\u001b[0m\u001b[0mf\u001b[0m \u001b[0;32mfor\u001b[0m \u001b[0mf\u001b[0m \u001b[0;32min\u001b[0m \u001b[0mles_files\u001b[0m \u001b[0;32mif\u001b[0m \u001b[0mf\u001b[0m\u001b[0;34m.\u001b[0m\u001b[0mendswith\u001b[0m\u001b[0;34m(\u001b[0m\u001b[0;34m'.les'\u001b[0m\u001b[0;34m)\u001b[0m\u001b[0;34m]\u001b[0m\u001b[0;34m\u001b[0m\u001b[0;34m\u001b[0m\u001b[0m\n\u001b[0m\u001b[1;32m     30\u001b[0m \u001b[0;34m\u001b[0m\u001b[0m\n\u001b[1;32m     31\u001b[0m \u001b[0;32mfor\u001b[0m \u001b[0mt\u001b[0m\u001b[0;34m,\u001b[0m \u001b[0mles_file\u001b[0m \u001b[0;32min\u001b[0m \u001b[0menumerate\u001b[0m\u001b[0;34m(\u001b[0m\u001b[0mles_files\u001b[0m\u001b[0;34m)\u001b[0m\u001b[0;34m:\u001b[0m\u001b[0;34m\u001b[0m\u001b[0;34m\u001b[0m\u001b[0m\n\u001b[1;32m     32\u001b[0m     \u001b[0mlesion_path\u001b[0m \u001b[0;34m=\u001b[0m \u001b[0mos\u001b[0m\u001b[0;34m.\u001b[0m\u001b[0mpath\u001b[0m\u001b[0;34m.\u001b[0m\u001b[0mjoin\u001b[0m\u001b[0;34m(\u001b[0m\u001b[0mbase_path\u001b[0m\u001b[0;34m,\u001b[0m \u001b[0mles_file\u001b[0m\u001b[0;34m)\u001b[0m\u001b[0;34m\u001b[0m\u001b[0;34m\u001b[0m\u001b[0m\n",
      "\u001b[0;32m~/anaconda3/envs/tfg/lib/python3.9/site-packages/SimpleITK/extra.py\u001b[0m in \u001b[0;36m?\u001b[0;34m(fileName, outputPixelType, imageIO)\u001b[0m\n\u001b[1;32m    342\u001b[0m         \u001b[0mreader\u001b[0m\u001b[0;34m.\u001b[0m\u001b[0mSetFileNames\u001b[0m\u001b[0;34m(\u001b[0m\u001b[0mfileName\u001b[0m\u001b[0;34m)\u001b[0m\u001b[0;34m\u001b[0m\u001b[0;34m\u001b[0m\u001b[0m\n\u001b[1;32m    343\u001b[0m \u001b[0;34m\u001b[0m\u001b[0m\n\u001b[1;32m    344\u001b[0m     \u001b[0mreader\u001b[0m\u001b[0;34m.\u001b[0m\u001b[0mSetImageIO\u001b[0m\u001b[0;34m(\u001b[0m\u001b[0mimageIO\u001b[0m\u001b[0;34m)\u001b[0m\u001b[0;34m\u001b[0m\u001b[0;34m\u001b[0m\u001b[0m\n\u001b[1;32m    345\u001b[0m     \u001b[0mreader\u001b[0m\u001b[0;34m.\u001b[0m\u001b[0mSetOutputPixelType\u001b[0m\u001b[0;34m(\u001b[0m\u001b[0moutputPixelType\u001b[0m\u001b[0;34m)\u001b[0m\u001b[0;34m\u001b[0m\u001b[0;34m\u001b[0m\u001b[0m\n\u001b[0;32m--> 346\u001b[0;31m     \u001b[0;32mreturn\u001b[0m \u001b[0mreader\u001b[0m\u001b[0;34m.\u001b[0m\u001b[0mExecute\u001b[0m\u001b[0;34m(\u001b[0m\u001b[0;34m)\u001b[0m\u001b[0;34m\u001b[0m\u001b[0;34m\u001b[0m\u001b[0m\n\u001b[0m",
      "\u001b[0;32m~/anaconda3/envs/tfg/lib/python3.9/site-packages/SimpleITK/SimpleITK.py\u001b[0m in \u001b[0;36m?\u001b[0;34m(self)\u001b[0m\n\u001b[1;32m   8011\u001b[0m         \u001b[0mExecute\u001b[0m\u001b[0;34m(\u001b[0m\u001b[0mImageFileReader\u001b[0m \u001b[0mself\u001b[0m\u001b[0;34m)\u001b[0m \u001b[0;34m->\u001b[0m \u001b[0mImage\u001b[0m\u001b[0;34m\u001b[0m\u001b[0;34m\u001b[0m\u001b[0m\n\u001b[1;32m   8012\u001b[0m \u001b[0;34m\u001b[0m\u001b[0m\n\u001b[1;32m   8013\u001b[0m \u001b[0;34m\u001b[0m\u001b[0m\n\u001b[1;32m   8014\u001b[0m         \"\"\"\n\u001b[0;32m-> 8015\u001b[0;31m         \u001b[0;32mreturn\u001b[0m \u001b[0m_SimpleITK\u001b[0m\u001b[0;34m.\u001b[0m\u001b[0mImageFileReader_Execute\u001b[0m\u001b[0;34m(\u001b[0m\u001b[0mself\u001b[0m\u001b[0;34m)\u001b[0m\u001b[0;34m\u001b[0m\u001b[0;34m\u001b[0m\u001b[0m\n\u001b[0m",
      "\u001b[0;31mRuntimeError\u001b[0m: Exception thrown in SimpleITK ImageFileReader_Execute: /home/conda/feedstock_root/build_artifacts/libsimpleitk_1627514680097/work/Code/IO/src/sitkImageReaderBase.cxx:105:\nsitk::ERROR: Unable to determine ImageIO reader for \"../../data/TCGA_Segmented_Lesions_UofC/TCGA-AO-A03M-1.les\""
     ]
    }
   ],
   "source": [
    "params = data_path + 'Params.yaml'\n",
    "\n",
    "extractor = featureextractor.RadiomicsFeatureExtractor(params)\n",
    "\n",
    "features = {}\n",
    "diagnostic = []\n",
    "\n",
    "target_class = pd.read_csv(data_path + 'target_class.csv')\n",
    "target_class_dict = dict(zip(target_class['CLID'], target_class['Pam50.Call']))\n",
    "\n",
    "base_path = data_path + r'TCGA_Segmented_Lesions_UofC/'\n",
    "les_files = sorted(os.listdir(base_path))\n",
    "\n",
    "les_files = [f for f in les_files if f.endswith('.les')]\n",
    "\n",
    "for t, les_file in enumerate(les_files):\n",
    "    lesion_path = os.path.join(base_path, les_file)\n",
    "    print(f\"Processing: {lesion_path}\")\n",
    "\n",
    "    lesion_name = os.path.splitext(les_file)[0]\n",
    "    lesion_name_base = \"-\".join(lesion_name.split(\"-\")[:3])\n",
    "\n",
    "    if lesion_name_base in target_class_dict:\n",
    "        diagnostic.append(target_class_dict[lesion_name_base])\n",
    "    else:\n",
    "        print(f\"Warning: Lesion {lesion_name_base} not found in target_class.csv\")\n",
    "        continue\n",
    "\n",
    "    mask = sitk.ReadImage(lesion_path)\n",
    "\n",
    "    features[t] = extractor.execute(mask, mask, label=1)\n",
    "\n",
    "feature_names = list(sorted(filter(lambda k: k.startswith(\"original_\"), features[0])))\n",
    "\n",
    "# Make a numpy array of all the values\n",
    "samples = np.zeros((len(features), len(feature_names)))\n",
    "for case_id, case_features in features.items():\n",
    "    a = np.array([case_features[feature_name] for feature_name in feature_names])\n",
    "    samples[case_id, :] = a\n",
    "\n",
    "# Replace NaNs with zeros\n",
    "samples = np.nan_to_num(samples)\n",
    "\n",
    "print(\"Feature extraction complete.\")"
   ]
  },
  {
   "cell_type": "code",
   "execution_count": null,
   "id": "474bcf2d-f23f-4a66-b1fe-6c7a3aca3e0f",
   "metadata": {},
   "outputs": [],
   "source": []
  }
 ],
 "metadata": {
  "kernelspec": {
   "display_name": "Python [conda env:tfg]",
   "language": "python",
   "name": "conda-env-tfg-py"
  },
  "language_info": {
   "codemirror_mode": {
    "name": "ipython",
    "version": 3
   },
   "file_extension": ".py",
   "mimetype": "text/x-python",
   "name": "python",
   "nbconvert_exporter": "python",
   "pygments_lexer": "ipython3",
   "version": "3.9.20"
  }
 },
 "nbformat": 4,
 "nbformat_minor": 5
}
