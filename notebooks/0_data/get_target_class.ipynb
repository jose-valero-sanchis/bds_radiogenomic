{
 "cells": [
  {
   "cell_type": "markdown",
   "id": "7598b701",
   "metadata": {},
   "source": [
    "# Libraries"
   ]
  },
  {
   "cell_type": "code",
   "execution_count": 4,
   "id": "77d7344d",
   "metadata": {},
   "outputs": [],
   "source": [
    "import pandas as pd\n",
    "import matplotlib.pyplot as plt\n",
    "import os\n",
    "import re"
   ]
  },
  {
   "cell_type": "code",
   "execution_count": 5,
   "id": "4519f1b5",
   "metadata": {},
   "outputs": [],
   "source": [
    "data_path = \"../../data/\""
   ]
  },
  {
   "cell_type": "markdown",
   "id": "1dafee88",
   "metadata": {},
   "source": [
    "# Data"
   ]
  },
  {
   "cell_type": "code",
   "execution_count": 8,
   "id": "cc2e5de8",
   "metadata": {},
   "outputs": [],
   "source": [
    "df_radiomics = pd.read_excel(data_path + \"quantitative_radiomic_features.xls\")\n",
    "df_radiomics['Lesion Name'] = df_radiomics['Lesion Name'].str.replace(r'-1\\.les|-S2-1\\.les', '', regex=True)"
   ]
  },
  {
   "cell_type": "code",
   "execution_count": 9,
   "id": "2f69582e",
   "metadata": {},
   "outputs": [
    {
     "name": "stderr",
     "output_type": "stream",
     "text": [
      "/home/jose/anaconda3/lib/python3.12/site-packages/openpyxl/worksheet/_read_only.py:85: UserWarning: Unknown extension is not supported and will be removed\n",
      "  for idx, row in parser.parse():\n"
     ]
    }
   ],
   "source": [
    "df_multigenic = pd.read_excel(data_path + \"multigenic_assays.xlsx\") "
   ]
  },
  {
   "cell_type": "code",
   "execution_count": 10,
   "id": "929aaab6",
   "metadata": {},
   "outputs": [],
   "source": [
    "df_clinical = pd.read_excel(data_path + \"clinical_data.xls\")"
   ]
  },
  {
   "cell_type": "markdown",
   "id": "a81900b4",
   "metadata": {},
   "source": [
    "# Target Class"
   ]
  },
  {
   "cell_type": "code",
   "execution_count": 15,
   "id": "313a6d37",
   "metadata": {},
   "outputs": [],
   "source": [
    "import re\n",
    "import os\n",
    "\n",
    "valid_rows = []\n",
    "not_valid_count = 0 \n",
    "\n",
    "for index, row in df_multigenic.iterrows():\n",
    "    clid = row['CLID']\n",
    "    \n",
    "    in_radiomics = clid in df_radiomics['Lesion Name'].values\n",
    "    in_clinical = clid in df_clinical['bcr_patient_barcode'].values\n",
    "    \n",
    "    pattern = rf\"^{clid}(-1\\.les|-S2-1\\.les)$\"\n",
    "    in_folder = any(re.match(pattern, filename) for filename in os.listdir(data_path + 'TCGA_Segmented_Lesions_UofC'))\n",
    "    \n",
    "    # if not in_radiomics:\n",
    "    #     print(f\"{clid} no está en la columna 'Lesion Name' de df_radiomics.\")\n",
    "    # if not in_clinical:\n",
    "    #     print(f\"{clid} no está en la columna 'bcr_patient_barcode' de df_clinical.\")\n",
    "    # if not in_folder:\n",
    "    #     print(f\"{clid} no está en la carpeta 'TCGA_Segmented_Lesions_UofC'.\")\n",
    "    \n",
    "    if in_radiomics and in_clinical and in_folder:\n",
    "        valid_rows.append(row)\n",
    "    else:\n",
    "        not_valid_count += 1\n",
    "\n",
    "valid_df = pd.DataFrame(valid_rows)"
   ]
  },
  {
   "cell_type": "code",
   "execution_count": 13,
   "id": "4f48cd8b",
   "metadata": {},
   "outputs": [
    {
     "name": "stdout",
     "output_type": "stream",
     "text": [
      "Número total de filas iniciales: 100\n",
      "Número total de filas válidas: 80\n",
      "Número total de filas no válidas: 20\n"
     ]
    }
   ],
   "source": [
    "print(f\"Número total de filas iniciales: {len(df_multigenic)}\")\n",
    "print(f\"Número total de filas válidas: {len(valid_df)}\")\n",
    "print(f\"Número total de filas no válidas: {not_valid_count}\")"
   ]
  },
  {
   "cell_type": "code",
   "execution_count": 63,
   "id": "89676f74",
   "metadata": {},
   "outputs": [
    {
     "name": "stdout",
     "output_type": "stream",
     "text": [
      "Número total de filas final: 76\n",
      "Pam50.Call\n",
      "LumA     52\n",
      "LumB     10\n",
      "Basal     9\n",
      "Her2      5\n",
      "Name: count, dtype: int64\n"
     ]
    }
   ],
   "source": [
    "target_class = valid_df[valid_df['Pam50.Call'] != 'Normal'].iloc[:, :2]\n",
    "value_counts = target_class['Pam50.Call'].value_counts()\n",
    "print(f\"Número total de filas final: {sum(value_counts)}\")\n",
    "print(value_counts)"
   ]
  },
  {
   "cell_type": "code",
   "execution_count": 64,
   "id": "650a3767",
   "metadata": {},
   "outputs": [
    {
     "data": {
      "image/png": "[encoded data removed]",
      "text/plain": [
       "<Figure size 800x500 with 1 Axes>"
      ]
     },
     "metadata": {},
     "output_type": "display_data"
    }
   ],
   "source": [
    "plt.figure(figsize=(8, 5))\n",
    "value_counts.plot(kind='bar')\n",
    "plt.title('Distribución de valores de Pam50.Call')\n",
    "plt.xlabel('Pam50.Call')\n",
    "plt.ylabel('Conteo')\n",
    "plt.xticks(rotation=45)\n",
    "plt.grid(axis='y', linestyle='--', alpha=0.7)\n",
    "plt.tight_layout()"
   ]
  },
  {
   "cell_type": "markdown",
   "id": "f3f8e3f4",
   "metadata": {},
   "source": [
    "# Save target class"
   ]
  },
  {
   "cell_type": "code",
   "execution_count": 66,
   "id": "2c7fdd35",
   "metadata": {},
   "outputs": [],
   "source": [
    "target_class.to_csv(data_path + \"target_class.csv\", index = False)"
   ]
  }
 ],
 "metadata": {
  "kernelspec": {
   "display_name": "Python [conda env:base] *",
   "language": "python",
   "name": "conda-base-py"
  },
  "language_info": {
   "codemirror_mode": {
    "name": "ipython",
    "version": 3
   },
   "file_extension": ".py",
   "mimetype": "text/x-python",
   "name": "python",
   "nbconvert_exporter": "python",
   "pygments_lexer": "ipython3",
   "version": "3.12.7"
  }
 },
 "nbformat": 4,
 "nbformat_minor": 5
}
