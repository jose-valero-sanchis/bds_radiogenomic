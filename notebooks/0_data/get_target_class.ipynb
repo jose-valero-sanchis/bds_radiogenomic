{
 "cells": [
  {
   "cell_type": "markdown",
   "id": "7598b701",
   "metadata": {},
   "source": [
    "# Libraries"
   ]
  },
  {
   "cell_type": "code",
   "execution_count": 1,
   "id": "77d7344d",
   "metadata": {},
   "outputs": [],
   "source": [
    "import pandas as pd\n",
    "import matplotlib.pyplot as plt\n",
    "import os\n",
    "import re"
   ]
  },
  {
   "cell_type": "code",
   "execution_count": 2,
   "id": "4519f1b5",
   "metadata": {},
   "outputs": [],
   "source": [
    "data_path = \"../../data/\""
   ]
  },
  {
   "cell_type": "markdown",
   "id": "1dafee88",
   "metadata": {},
   "source": [
    "# Data"
   ]
  },
  {
   "cell_type": "code",
   "execution_count": 3,
   "id": "cc2e5de8",
   "metadata": {},
   "outputs": [],
   "source": [
    "df_radiomics = pd.read_excel(data_path + \"quantitative_radiomic_features.xls\")\n",
    "df_radiomics['Lesion Name'] = df_radiomics['Lesion Name'].str.replace(r'-1\\.les|-S2-1\\.les', '', regex=True)"
   ]
  },
  {
   "cell_type": "code",
   "execution_count": 4,
   "id": "2f69582e",
   "metadata": {},
   "outputs": [
    {
     "name": "stderr",
     "output_type": "stream",
     "text": [
      "C:\\Users\\Jose\\anaconda3\\lib\\site-packages\\openpyxl\\worksheet\\_read_only.py:81: UserWarning: Unknown extension is not supported and will be removed\n",
      "  for idx, row in parser.parse():\n"
     ]
    }
   ],
   "source": [
    "df_multigenic = pd.read_excel(data_path + \"multigenic_assays.xlsx\") "
   ]
  },
  {
   "cell_type": "code",
   "execution_count": 5,
   "id": "929aaab6",
   "metadata": {},
   "outputs": [],
   "source": [
    "df_clinical = pd.read_excel(data_path + \"clinical_data.xls\")"
   ]
  },
  {
   "cell_type": "markdown",
   "id": "a81900b4",
   "metadata": {},
   "source": [
    "# Target Class"
   ]
  },
  {
   "cell_type": "code",
   "execution_count": 6,
   "id": "313a6d37",
   "metadata": {},
   "outputs": [],
   "source": [
    "import re\n",
    "import os\n",
    "\n",
    "valid_rows = []\n",
    "not_valid_count = 0 \n",
    "\n",
    "for index, row in df_multigenic.iterrows():\n",
    "    clid = row['CLID']\n",
    "    \n",
    "    in_radiomics = clid in df_radiomics['Lesion Name'].values\n",
    "    in_clinical = clid in df_clinical['bcr_patient_barcode'].values\n",
    "    \n",
    "    if in_radiomics and in_clinical:\n",
    "        valid_rows.append(row)\n",
    "    else:\n",
    "        not_valid_count += 1\n",
    "\n",
    "valid_df = pd.DataFrame(valid_rows)"
   ]
  },
  {
   "cell_type": "code",
   "execution_count": 7,
   "id": "4f48cd8b",
   "metadata": {},
   "outputs": [
    {
     "name": "stdout",
     "output_type": "stream",
     "text": [
      "Número total de filas iniciales: 100\n",
      "Número total de filas válidas: 80\n",
      "Número total de filas no válidas: 20\n"
     ]
    }
   ],
   "source": [
    "print(f\"Número total de filas iniciales: {len(df_multigenic)}\")\n",
    "print(f\"Número total de filas válidas: {len(valid_df)}\")\n",
    "print(f\"Número total de filas no válidas: {not_valid_count}\")"
   ]
  },
  {
   "cell_type": "code",
   "execution_count": 8,
   "id": "89676f74",
   "metadata": {},
   "outputs": [
    {
     "name": "stdout",
     "output_type": "stream",
     "text": [
      "Número total de filas final: 76\n",
      "Pam50.Call\n",
      "LumA     52\n",
      "LumB     10\n",
      "Basal     9\n",
      "Her2      5\n",
      "Name: count, dtype: int64\n"
     ]
    }
   ],
   "source": [
    "target_class = valid_df[valid_df['Pam50.Call'] != 'Normal'].iloc[:, :2]\n",
    "value_counts = target_class['Pam50.Call'].value_counts()\n",
    "print(f\"Número total de filas final: {sum(value_counts)}\")\n",
    "print(value_counts)"
   ]
  },
  {
   "cell_type": "code",
   "execution_count": 10,
   "id": "e7bda657-0245-45b8-ac6d-dd40228ea8d1",
   "metadata": {},
   "outputs": [
    {
     "data": {
      "image/png": "[encoded data removed]",
      "text/plain": [
       "<Figure size 800x500 with 1 Axes>"
      ]
     },
     "metadata": {},
     "output_type": "display_data"
    }
   ],
   "source": [
    "import pandas as pd\n",
    "import matplotlib.pyplot as plt\n",
    "import numpy as np\n",
    "import seaborn as sns\n",
    "import matplotlib as mpl\n",
    "import scienceplots\n",
    "\n",
    "plt.style.use(['science', 'grid'])\n",
    "\n",
    "isup_counts = target_class['Pam50.Call'].value_counts()\n",
    "\n",
    "fig, ax = plt.subplots(figsize=(8, 5))  # Ajustamos el tamaño según se indicó\n",
    "isup_counts.plot(kind='bar', color='gray', edgecolor='black', ax=ax)\n",
    "\n",
    "# Título y etiquetas traducidos al inglés\n",
    "ax.set_title('Distribution of Pam50.Call Values', fontsize=14)\n",
    "ax.set_xlabel('Pam50.Call', fontsize=12, labelpad=10)\n",
    "ax.set_ylabel('Count', fontsize=12, labelpad=10)\n",
    "\n",
    "# Rotación de los labels y ajustes de los ticks\n",
    "ax.set_xticks(range(len(isup_counts)))\n",
    "ax.set_xticklabels(isup_counts.index, rotation=45, fontsize=10)  # Etiquetas con rotación 45°\n",
    "ax.tick_params(axis='y', labelsize=10)\n",
    "\n",
    "# Grid en el eje Y y estilo del gráfico\n",
    "ax.grid(axis='y', linestyle='--', linewidth=0.5, alpha=0.7)\n",
    "ax.spines['top'].set_visible(False)\n",
    "ax.spines['right'].set_visible(False)\n",
    "ax.tick_params(top=False, right=False, which='both')\n",
    "\n",
    "fig.tight_layout()\n",
    "plt.savefig('distribution_pam50_call.png', dpi=300, bbox_inches='tight')  # Línea opcional para guardar el plot\n",
    "plt.show()"
   ]
  },
  {
   "cell_type": "markdown",
   "id": "f3f8e3f4",
   "metadata": {},
   "source": [
    "# Save target class"
   ]
  },
  {
   "cell_type": "code",
   "execution_count": 66,
   "id": "2c7fdd35",
   "metadata": {},
   "outputs": [],
   "source": [
    "target_class.to_csv(data_path + \"target_class.csv\", index = False)"
   ]
  }
 ],
 "metadata": {
  "kernelspec": {
   "display_name": "Python [conda env:base] *",
   "language": "python",
   "name": "conda-base-py"
  },
  "language_info": {
   "codemirror_mode": {
    "name": "ipython",
    "version": 3
   },
   "file_extension": ".py",
   "mimetype": "text/x-python",
   "name": "python",
   "nbconvert_exporter": "python",
   "pygments_lexer": "ipython3",
   "version": "3.12.7"
  }
 },
 "nbformat": 4,
 "nbformat_minor": 5
}
