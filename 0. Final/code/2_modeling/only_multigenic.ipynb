{
 "cells": [
  {
   "cell_type": "code",
   "execution_count": 1,
   "id": "90ad58a1-c48d-4fdc-af53-4433f34c3389",
   "metadata": {},
   "outputs": [],
   "source": [
    "import pandas as pd\n",
    "import seaborn as sns\n",
    "import matplotlib.pyplot as plt\n",
    "import numpy as np\n",
    "\n",
    "from imblearn.under_sampling import RandomUnderSampler\n",
    "from imblearn.over_sampling import SMOTE\n",
    "\n",
    "# Feature extraction\n",
    "from sklearn.feature_selection import VarianceThreshold\n",
    "\n",
    "from boruta import BorutaPy\n",
    "from sklearn.inspection import permutation_importance\n",
    "\n",
    "from scipy.cluster.hierarchy import linkage, dendrogram, fcluster\n",
    "from scipy.spatial.distance import squareform\n",
    "\n",
    "# Classification models\n",
    "from sklearn.model_selection import train_test_split\n",
    "from sklearn.metrics import classification_report, f1_score\n",
    "\n",
    "from sklearn.ensemble import RandomForestClassifier, GradientBoostingClassifier, ExtraTreesClassifier\n",
    "from sklearn.tree import DecisionTreeClassifier\n",
    "from sklearn.linear_model import LogisticRegression\n",
    "from sklearn.svm import SVC\n",
    "from sklearn.neighbors import KNeighborsClassifier"
   ]
  },
  {
   "cell_type": "code",
   "execution_count": 2,
   "id": "c0c94fac-5e6e-4629-866b-572c416464e2",
   "metadata": {},
   "outputs": [],
   "source": [
    "data_path = \"../../data/\""
   ]
  },
  {
   "cell_type": "code",
   "execution_count": null,
   "id": "5423a0a4-251c-4779-90ea-eddf84c1b4e1",
   "metadata": {},
   "outputs": [],
   "source": []
  },
  {
   "cell_type": "code",
   "execution_count": 3,
   "id": "3d03c32a-c427-4643-b6d1-027c83feaef8",
   "metadata": {},
   "outputs": [
    {
     "name": "stderr",
     "output_type": "stream",
     "text": [
      "/home/jose/anaconda3/envs/tfg/lib/python3.9/site-packages/openpyxl/worksheet/_reader.py:329: UserWarning: Unknown extension is not supported and will be removed\n",
      "  warn(msg)\n"
     ]
    }
   ],
   "source": [
    "df_assays = pd.read_excel(data_path + \"multigenic_assays.xlsx\")\n",
    "df_assays = df_assays.drop(columns=df_assays.columns[1])\n",
    "df_assays.rename(columns={'CLID': 'Lesion Name'}, inplace=True)\n",
    "df_assays = df_assays[['Lesion Name', 'GHI_RS Score', 'Mammaprint Pcorr_NKI70_Good_Correlation_Nature.2002_PMID.11823860', \n",
    "                        'UNC_Proliferation_11_Mean_JCO.2009_PMID.19204204']]\n",
    "\n",
    "target_class = pd.read_csv(data_path + 'target_class.csv')\n",
    "target_class.rename(columns={'CLID': 'Lesion Name'}, inplace=True)"
   ]
  },
  {
   "cell_type": "code",
   "execution_count": 4,
   "id": "b96a4a0e-621f-4a10-8a98-533d1cee9d30",
   "metadata": {},
   "outputs": [
    {
     "data": {
      "text/html": [
       "<div>\n",
       "<style scoped>\n",
       "    .dataframe tbody tr th:only-of-type {\n",
       "        vertical-align: middle;\n",
       "    }\n",
       "\n",
       "    .dataframe tbody tr th {\n",
       "        vertical-align: top;\n",
       "    }\n",
       "\n",
       "    .dataframe thead th {\n",
       "        text-align: right;\n",
       "    }\n",
       "</style>\n",
       "<table border=\"1\" class=\"dataframe\">\n",
       "  <thead>\n",
       "    <tr style=\"text-align: right;\">\n",
       "      <th></th>\n",
       "      <th>GHI_RS Score</th>\n",
       "      <th>Mammaprint Pcorr_NKI70_Good_Correlation_Nature.2002_PMID.11823860</th>\n",
       "      <th>UNC_Proliferation_11_Mean_JCO.2009_PMID.19204204</th>\n",
       "      <th>Pam50.Call</th>\n",
       "    </tr>\n",
       "  </thead>\n",
       "  <tbody>\n",
       "    <tr>\n",
       "      <th>0</th>\n",
       "      <td>100.000000</td>\n",
       "      <td>0.458</td>\n",
       "      <td>-0.232964</td>\n",
       "      <td>LumA</td>\n",
       "    </tr>\n",
       "    <tr>\n",
       "      <th>1</th>\n",
       "      <td>48.574519</td>\n",
       "      <td>0.628</td>\n",
       "      <td>-0.673673</td>\n",
       "      <td>LumA</td>\n",
       "    </tr>\n",
       "    <tr>\n",
       "      <th>2</th>\n",
       "      <td>55.213839</td>\n",
       "      <td>0.567</td>\n",
       "      <td>-0.263108</td>\n",
       "      <td>LumA</td>\n",
       "    </tr>\n",
       "    <tr>\n",
       "      <th>3</th>\n",
       "      <td>72.668351</td>\n",
       "      <td>0.420</td>\n",
       "      <td>-0.398098</td>\n",
       "      <td>LumA</td>\n",
       "    </tr>\n",
       "    <tr>\n",
       "      <th>4</th>\n",
       "      <td>100.000000</td>\n",
       "      <td>0.121</td>\n",
       "      <td>0.233268</td>\n",
       "      <td>LumB</td>\n",
       "    </tr>\n",
       "    <tr>\n",
       "      <th>...</th>\n",
       "      <td>...</td>\n",
       "      <td>...</td>\n",
       "      <td>...</td>\n",
       "      <td>...</td>\n",
       "    </tr>\n",
       "    <tr>\n",
       "      <th>71</th>\n",
       "      <td>100.000000</td>\n",
       "      <td>0.319</td>\n",
       "      <td>0.061330</td>\n",
       "      <td>LumA</td>\n",
       "    </tr>\n",
       "    <tr>\n",
       "      <th>72</th>\n",
       "      <td>38.471147</td>\n",
       "      <td>0.469</td>\n",
       "      <td>-0.341741</td>\n",
       "      <td>LumA</td>\n",
       "    </tr>\n",
       "    <tr>\n",
       "      <th>73</th>\n",
       "      <td>100.000000</td>\n",
       "      <td>-0.541</td>\n",
       "      <td>0.263237</td>\n",
       "      <td>Basal</td>\n",
       "    </tr>\n",
       "    <tr>\n",
       "      <th>74</th>\n",
       "      <td>54.557275</td>\n",
       "      <td>0.704</td>\n",
       "      <td>-0.345247</td>\n",
       "      <td>LumA</td>\n",
       "    </tr>\n",
       "    <tr>\n",
       "      <th>75</th>\n",
       "      <td>65.962356</td>\n",
       "      <td>0.568</td>\n",
       "      <td>-0.805760</td>\n",
       "      <td>LumA</td>\n",
       "    </tr>\n",
       "  </tbody>\n",
       "</table>\n",
       "<p>76 rows × 4 columns</p>\n",
       "</div>"
      ],
      "text/plain": [
       "    GHI_RS Score  \\\n",
       "0     100.000000   \n",
       "1      48.574519   \n",
       "2      55.213839   \n",
       "3      72.668351   \n",
       "4     100.000000   \n",
       "..           ...   \n",
       "71    100.000000   \n",
       "72     38.471147   \n",
       "73    100.000000   \n",
       "74     54.557275   \n",
       "75     65.962356   \n",
       "\n",
       "    Mammaprint Pcorr_NKI70_Good_Correlation_Nature.2002_PMID.11823860  \\\n",
       "0                                               0.458                   \n",
       "1                                               0.628                   \n",
       "2                                               0.567                   \n",
       "3                                               0.420                   \n",
       "4                                               0.121                   \n",
       "..                                                ...                   \n",
       "71                                              0.319                   \n",
       "72                                              0.469                   \n",
       "73                                             -0.541                   \n",
       "74                                              0.704                   \n",
       "75                                              0.568                   \n",
       "\n",
       "    UNC_Proliferation_11_Mean_JCO.2009_PMID.19204204 Pam50.Call  \n",
       "0                                          -0.232964       LumA  \n",
       "1                                          -0.673673       LumA  \n",
       "2                                          -0.263108       LumA  \n",
       "3                                          -0.398098       LumA  \n",
       "4                                           0.233268       LumB  \n",
       "..                                               ...        ...  \n",
       "71                                          0.061330       LumA  \n",
       "72                                         -0.341741       LumA  \n",
       "73                                          0.263237      Basal  \n",
       "74                                         -0.345247       LumA  \n",
       "75                                         -0.805760       LumA  \n",
       "\n",
       "[76 rows x 4 columns]"
      ]
     },
     "execution_count": 4,
     "metadata": {},
     "output_type": "execute_result"
    }
   ],
   "source": [
    "df = pd.merge(df_assays, target_class, on='Lesion Name', how='inner')\n",
    "df = df.drop(columns=df.columns[0])\n",
    "df"
   ]
  },
  {
   "cell_type": "code",
   "execution_count": null,
   "id": "db2bc637-c851-4c4c-b658-0b77173c367c",
   "metadata": {},
   "outputs": [],
   "source": []
  },
  {
   "cell_type": "code",
   "execution_count": 5,
   "id": "ea0fb40d-e82b-49ff-9531-41f25f666ce0",
   "metadata": {},
   "outputs": [],
   "source": [
    "from sklearn.preprocessing import StandardScaler\n",
    "\n",
    "radiomic_features = df.drop(columns=[\"Pam50.Call\"])\n",
    "\n",
    "scaler = StandardScaler()\n",
    "scaled_features = scaler.fit_transform(radiomic_features)\n",
    "\n",
    "df_scaled = pd.DataFrame(scaled_features, columns=radiomic_features.columns)\n",
    "\n",
    "df_scaled[\"Pam50.Call\"] = df[\"Pam50.Call\"].values\n",
    "\n",
    "df = df_scaled"
   ]
  },
  {
   "cell_type": "code",
   "execution_count": null,
   "id": "81594c13-2d10-41c0-9cef-8e5d3a0436de",
   "metadata": {},
   "outputs": [],
   "source": []
  },
  {
   "cell_type": "code",
   "execution_count": 6,
   "id": "53ece543-33d2-4a80-8f55-574527aa9443",
   "metadata": {},
   "outputs": [],
   "source": [
    "features = df.columns.difference(['Pam50.Call'])\n",
    "target_col = 'Pam50.Call'\n",
    "\n",
    "X_train, X_test, y_train, y_test = train_test_split(\n",
    "    df[features],\n",
    "    df[target_col],\n",
    "    test_size=0.2,\n",
    "    random_state=42,\n",
    "    stratify=df[target_col]\n",
    ")"
   ]
  },
  {
   "cell_type": "code",
   "execution_count": null,
   "id": "a7ef2b97-ce29-44eb-8581-332494a2fc17",
   "metadata": {},
   "outputs": [],
   "source": []
  },
  {
   "cell_type": "code",
   "execution_count": 7,
   "id": "da9517df-34e2-4f03-b8af-2a12871367b8",
   "metadata": {},
   "outputs": [
    {
     "name": "stdout",
     "output_type": "stream",
     "text": [
      "\n",
      "Distribución tras Under-Sampling + Over-Sampling en train:\n",
      "Pam50.Call\n",
      "Basal    30\n",
      "Her2     30\n",
      "LumA     30\n",
      "LumB     30\n",
      "Name: count, dtype: int64\n"
     ]
    }
   ],
   "source": [
    "under_sampler = RandomUnderSampler(sampling_strategy={\"LumA\": 30}, random_state=42)\n",
    "X_train_under, y_train_under = under_sampler.fit_resample(X_train, y_train)\n",
    "\n",
    "over_sampler = SMOTE(sampling_strategy=\"not majority\", random_state=42, k_neighbors=3)\n",
    "X_train_resampled, y_train_resampled = over_sampler.fit_resample(X_train_under, y_train_under)\n",
    "\n",
    "print(\"\\nDistribución tras Under-Sampling + Over-Sampling en train:\")\n",
    "print(y_train_resampled.value_counts())"
   ]
  },
  {
   "cell_type": "code",
   "execution_count": null,
   "id": "d2e2c224-0368-450c-b35a-90ea400b5903",
   "metadata": {},
   "outputs": [],
   "source": []
  },
  {
   "cell_type": "code",
   "execution_count": 8,
   "id": "3737d671-ce93-472f-81a4-8bc340cc6ce8",
   "metadata": {},
   "outputs": [],
   "source": [
    "df_resampled = pd.concat(\n",
    "    [pd.DataFrame(X_train_resampled), pd.Series(y_train_resampled, name='Pam50.Call')],\n",
    "    axis=1\n",
    ")"
   ]
  },
  {
   "cell_type": "code",
   "execution_count": 9,
   "id": "1a0b5e73-73f8-4e28-99ee-be91eb6e9544",
   "metadata": {},
   "outputs": [],
   "source": [
    "df_train = df_resampled"
   ]
  },
  {
   "cell_type": "code",
   "execution_count": 10,
   "id": "c9c50b54-036b-418a-856d-3c1342b76bbd",
   "metadata": {},
   "outputs": [],
   "source": [
    "selected_features = ['GHI_RS Score', \n",
    "                                             'Mammaprint Pcorr_NKI70_Good_Correlation_Nature.2002_PMID.11823860', \n",
    "                                             'UNC_Proliferation_11_Mean_JCO.2009_PMID.19204204']"
   ]
  },
  {
   "cell_type": "code",
   "execution_count": 11,
   "id": "7af78b68-47be-4cf4-a8ef-23f7b3479d50",
   "metadata": {},
   "outputs": [],
   "source": [
    "X_train_resampled_selected = X_train_resampled[selected_features]\n",
    "X_test_selected = X_test[selected_features]"
   ]
  },
  {
   "cell_type": "code",
   "execution_count": null,
   "id": "c0d4927f-5184-4bc7-ba53-fdb6b1eea29f",
   "metadata": {},
   "outputs": [],
   "source": []
  },
  {
   "cell_type": "code",
   "execution_count": 12,
   "id": "3cadd52d-c406-466a-baa8-e80e6edc5191",
   "metadata": {},
   "outputs": [],
   "source": [
    "def train_and_evaluate_model(X_train, X_test, y_train, y_test, features, target_col, model, imprimir=False):\n",
    "    model.fit(X_train, y_train)\n",
    "    y_pred = model.predict(X_test)\n",
    "    macro_f1 = f1_score(y_test, y_pred, average='macro')\n",
    "    if imprimir:\n",
    "        print(\"Classification Report:\")\n",
    "        print(classification_report(y_test, y_pred))\n",
    "    return macro_f1"
   ]
  },
  {
   "cell_type": "code",
   "execution_count": null,
   "id": "d1af84be-43f2-4c99-8ef8-9472946171e2",
   "metadata": {},
   "outputs": [],
   "source": []
  },
  {
   "cell_type": "code",
   "execution_count": 13,
   "id": "bf2df679-d1d8-4870-a982-7471798e5aa5",
   "metadata": {},
   "outputs": [
    {
     "name": "stdout",
     "output_type": "stream",
     "text": [
      "Classification Report:\n",
      "              precision    recall  f1-score   support\n",
      "\n",
      "       Basal       1.00      1.00      1.00         2\n",
      "        Her2       0.33      1.00      0.50         1\n",
      "        LumA       1.00      0.82      0.90        11\n",
      "        LumB       0.00      0.00      0.00         2\n",
      "\n",
      "    accuracy                           0.75        16\n",
      "   macro avg       0.58      0.70      0.60        16\n",
      "weighted avg       0.83      0.75      0.78        16\n",
      "\n"
     ]
    }
   ],
   "source": [
    "rf_model = RandomForestClassifier(random_state=42)\n",
    "\n",
    "macro_f1_score = train_and_evaluate_model(\n",
    "    X_train_resampled_selected, X_test_selected, y_train_resampled, y_test,\n",
    "    features=[col for col in df.columns if col != \"Pam50.Call\"],\n",
    "    target_col=\"Pam50.Call\",\n",
    "    model=rf_model,\n",
    "    imprimir=True\n",
    ")"
   ]
  }
 ],
 "metadata": {
  "kernelspec": {
   "display_name": "Python [conda env:tfg]",
   "language": "python",
   "name": "conda-env-tfg-py"
  },
  "language_info": {
   "codemirror_mode": {
    "name": "ipython",
    "version": 3
   },
   "file_extension": ".py",
   "mimetype": "text/x-python",
   "name": "python",
   "nbconvert_exporter": "python",
   "pygments_lexer": "ipython3",
   "version": "3.9.20"
  }
 },
 "nbformat": 4,
 "nbformat_minor": 5
}
